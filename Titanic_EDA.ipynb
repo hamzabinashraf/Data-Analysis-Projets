{
  "cells": [
    {
      "cell_type": "markdown",
      "metadata": {
        "id": "view-in-github",
        "colab_type": "text"
      },
      "source": [
        "<a href=\"https://colab.research.google.com/github/hamzabinashraf/Data-Analysis-Projets/blob/main/Titanic_EDA.ipynb\" target=\"_parent\"><img src=\"https://colab.research.google.com/assets/colab-badge.svg\" alt=\"Open In Colab\"/></a>"
      ]
    },
    {
      "cell_type": "markdown",
      "source": [
        ">[Kaggle EDA](#scrollTo=OsSZvbXmZ7rl)\n",
        "\n",
        ">[Titanic Exploratory Data Analysis](#scrollTo=boLVzByMY40Z)\n",
        "\n"
      ],
      "metadata": {
        "colab_type": "toc",
        "id": "QDrU2D_DZrMo"
      }
    },
    {
      "cell_type": "markdown",
      "source": [
        "# Kaggle EDA"
      ],
      "metadata": {
        "id": "OsSZvbXmZ7rl"
      }
    },
    {
      "cell_type": "code",
      "source": [
        "import pandas as pd\n",
        "import numpy as np\n",
        "import matplotlib.pyplot as plt\n",
        "import seaborn as sns\n",
        "import plotly.express as px\n",
        "import plotly\n",
        "\n",
        "#!pip install pycountry\n",
        "import pycountry\n"
      ],
      "metadata": {
        "id": "d8lB_Tm1aT3f"
      },
      "execution_count": null,
      "outputs": []
    },
    {
      "cell_type": "markdown",
      "source": [
        "\n",
        "-   Top 5 countries respondents, gender-wise and age-wise distribution\n",
        "-   Numbers of respondents who published research\n",
        "-   The coding experience respondents have based on gender\n",
        "-   Job title vs Job activities based on gender\n",
        "-   Current role at the workplace of each gender. (Independent as well as region-wise)\n",
        "-   Popular media sources that report on data science topics and preferences based on gender\n",
        "-   Number of women who use machine learning platforms and tools\n",
        "[Kaggle](https://www.kaggle.com/competitions/kaggle-survey-2022/overview) sets out to undertake an extensive survey of the industry every year that offers a comprehensive picture of trends in data science and machine learning. [Kaggle](https://www.kaggle.com/competitions/kaggle-survey-2022/overview) asked each respondent 44 questions for this poll.\n",
        "In this dataset:\n",
        "- There are 23,997 responses from 58 Countries.\n",
        "- There are 23,997 rows and 296 columns.\n"
      ],
      "metadata": {
        "id": "-AtqEwCzaZEe"
      }
    },
    {
      "cell_type": "markdown",
      "source": [
        "**Importing and Reading Data**\n"
      ],
      "metadata": {
        "id": "zEDNU4tpavFo"
      }
    },
    {
      "cell_type": "code",
      "source": [
        "## Reading Data\n",
        "pd.set_option('display.max_columns', None)\n",
        "df = pd.read_csv(\"kaggle_survey_2022_responses.csv\", low_memory=False)\n",
        "# low_memory parameter:\n",
        "\n",
        "# By default, pandas uses a memory-mapping approach when reading large CSV files. This allows it to read the file in chunks and consume less memory.\n",
        "# When low_memory=True (which is the default behavior), pandas reads the CSV file in chunks, making it memory-efficient but potentially slower.\n",
        "# When low_memory=False, pandas tries to read the entire file into memory at once. This can be faster for smaller datasets that fit comfortably in memory, but it may lead to higher memory usage for larger datasets.\n",
        "# Use case:\n",
        "\n",
        "# Setting low_memory=False is appropriate when you have sufficient RAM (random-access memory) to accommodate the entire dataset without causing memory errors.\n",
        "# It might be useful for smaller datasets or when you are dealing with a machine with ample memory.\n",
        "\n",
        "df.drop(df.index[0], inplace=True)\n",
        "df.head(3)\n",
        "-   Checking data dimension\n",
        "# checking data shape\n",
        "print(\"Data has {} rows and {} columns\".format(df.shape[0], df.shape[1]))"
      ],
      "metadata": {
        "id": "Ndk0zgq0apvo"
      },
      "execution_count": null,
      "outputs": []
    },
    {
      "cell_type": "markdown",
      "source": [
        "**Top 5 countries respondents, gender-wise and age-wise distribution**"
      ],
      "metadata": {
        "id": "NnX9_45SbP6C"
      }
    },
    {
      "cell_type": "code",
      "source": [
        "\n",
        "df_country=df['Q4'].value_counts().head()\n",
        "df_country\n"
      ],
      "metadata": {
        "id": "8F2AGAOibLSd"
      },
      "execution_count": null,
      "outputs": []
    },
    {
      "cell_type": "markdown",
      "source": [
        "**Age group**"
      ],
      "metadata": {
        "id": "K_9vRYjUbWty"
      }
    },
    {
      "cell_type": "code",
      "source": [
        "\n",
        "sns.countplot(data=df, x='Q2', order=df['Q2'].value_counts().index,\n",
        "             # palette=\"rocket\",\n",
        "              hue=\"Q3\") #Q3 gender\n",
        "# Rotate x-axis tick labels by 45 degrees\n",
        "plt.xticks(rotation=45, ha='right')  #ha means horizontal allignment\n"
      ],
      "metadata": {
        "id": "7tW2PE5wbSVh"
      },
      "execution_count": null,
      "outputs": []
    },
    {
      "cell_type": "code",
      "source": [
        "# Create a count plot for 'Q2' with hue 'Q3'\n",
        "plt.figure(figsize=(12, 6))\n",
        "sns.countplot(data=df, x='Q2', order=df['Q2'].value_counts().index, hue='Q3')\n",
        "plt.title('Count of Gender Categories (Q3) in Each Age Category (Q2)')\n",
        "plt.xlabel('Age Categories (Q2)')\n",
        "plt.ylabel('Count')\n",
        "plt.xticks(rotation=45, ha='right')  # Rotate x-axis labels for better visibility\n",
        "\n",
        "# Move the legend outside the plot for better visibility\n",
        "plt.legend(loc='upper right', bbox_to_anchor=(1, 1))\n",
        "\n",
        "# The bbox_to_anchor parameter is used to specify the exact placement of the legend in relation to the axes.\n",
        "# In the context of plt.legend(), the bbox_to_anchor parameter takes a tuple of two values, where the first value\n",
        "# represents the x-coordinate, and the second value represents the y-coordinate.\n",
        "\n",
        "plt.show()"
      ],
      "metadata": {
        "id": "nvFVClIdbcYZ"
      },
      "execution_count": null,
      "outputs": []
    },
    {
      "cell_type": "code",
      "source": [
        "#sns.color_palette=\"Paired\"\n",
        "sns.countplot(data=df, x='Q3', order=df['Q3'].value_counts().index, palette=\"rocket\")\n",
        "# Rotate x-axis tick labels by 45 degrees\n",
        "plt.xticks(rotation=45, ha='right')  #ha means horizontal allignment\n",
        "\n",
        "# Percentage of kagglers who participated in kaggle competitions using pie chart\n",
        "fig = px.pie(df, values=[18266,5286], names=['Man', 'Woman'], title='Percentage of Respondants',\n",
        "        color_discrete_sequence=['#0984e3', '#74b9ff'], height=500, width=800, hole=0.6)\n",
        "fig.update_layout(title_x=0.5, title_font_size=25)\n",
        "fig.add_annotation(dict(x=0.5, y=0.5,  align='center',\n",
        "                        xref = \"paper\", yref = \"paper\",\n",
        "                        showarrow = False, font_size=22,\n",
        "                        text=\"<b>Gender</b>\"))\n",
        "fig.show()\n"
      ],
      "metadata": {
        "id": "zZxHjegfbeBr"
      },
      "execution_count": null,
      "outputs": []
    },
    {
      "cell_type": "code",
      "source": [
        "# Removing header of question statements from dataset\n",
        "header_removed = df.iloc[1: , :]\n",
        "\n",
        "# Making a new dataframe according to desired question of ploting gender distribution on world map\n",
        "df_map=header_removed[[\"Q2\",\"Q3\",\"Q4\", ]]\n",
        "#df3= df3.loc[((df3['Q4'] == \"India\") | (df3['Q4'] == \"United States of America\")| (df3['Q4'] == \"Nigeria\")| (df3['Q4'] == \"Brazil\")| (df3['Q4'] == \"Pakistan\"))]\n",
        "\n",
        "# Dropping irrelevant values as our focus is top 5 frequent countries and male/female\n",
        "df_map.drop(df_map[(df_map[\"Q3\"] == 'Prefer not to say') | (df_map[\"Q3\"] == 'Nonbinary') | (df_map[\"Q3\"] == 'Prefer to self-describe')].index, inplace=True)\n",
        "df_map.reset_index()\n",
        "\n",
        "#Adding values for country name to plot on map\n",
        "\n",
        "def countries(input_countries):\n",
        "    countries = {}\n",
        "    for country in pycountry.countries:\n",
        "        countries[country.name] = country.alpha_3\n",
        "    codes = []\n",
        "    countries['United States of America'] = 'USA'\n",
        "    countries[\"India\"] = 'IND'\n",
        "    countries[\"Nigeria\"] = 'NG'\n",
        "    countries['Brazil'] = 'BZ'\n",
        "    countries['Pakistan'] = 'PAK'\n",
        "\n",
        "\n",
        "    codes = [countries.get(country, 'Unknown code') for country in input_countries]\n",
        "    return codes\n",
        "\n",
        "df2 = df_map[~df_map['Q4'].isin(['I do not wish to disclose my location','Other'])]\n",
        "\n",
        "input_countries = list(df2['Q4'].unique())\n",
        "iso3_dict = dict(zip(input_countries, countries(input_countries)))\n",
        "\n",
        "df2.loc[:,'iso_locs3'] = df2.loc[:,'Q4'].replace(to_replace=iso3_dict)\n",
        "\n",
        "status_country = df2.groupby(['Q3','iso_locs3']).agg({'Q2':'count'}).reset_index()\\\n",
        ".rename(columns={'Q2':'count','iso_locs3':'country','Q3':'status'})\n",
        "\n",
        "fig = px.scatter_geo(status_country, locations='country', color='status',\n",
        "                    size='count', category_orders={\n",
        "                        'status':['Yes','No']\n",
        "                    }, size_max=40, color_discrete_sequence=px.colors.qualitative.Alphabet,\n",
        "                    title=\"Gender Distrbution of kagglers in top countries of world\")\n",
        "fig.show()\n"
      ],
      "metadata": {
        "id": "3TPR9Ykhb5OQ"
      },
      "execution_count": null,
      "outputs": []
    },
    {
      "cell_type": "markdown",
      "source": [
        "**Numbers of respondents who published research**"
      ],
      "metadata": {
        "id": "7b72VG9_b7Or"
      }
    },
    {
      "cell_type": "code",
      "source": [
        "# Create a count plot for 'Q2' with hue 'Q3'\n",
        "plt.figure(figsize=(12, 6))\n",
        "sns.countplot(data=df, x='Q9', order=df['Q9'].value_counts().index, hue='Q3')\n",
        "plt.title('Participants who published research and gender distribution')\n",
        "plt.xlabel('Published research')\n",
        "plt.ylabel('Count')\n",
        "plt.xticks( size=12)\n",
        "plt.yticks( size=12)\n",
        "# Move the legend outside the plot for better visibility\n",
        "plt.legend(loc='upper right', bbox_to_anchor=(1, 1))\n",
        "\n",
        "# The bbox_to_anchor parameter is used to specify the exact placement of the legend in relation to the axes.\n",
        "# In the context of plt.legend(), the bbox_to_anchor parameter takes a tuple of two values, where the first value\n",
        "# represents the x-coordinate, and the second value represents the y-coordinate.\n",
        "\n",
        "plt.show()"
      ],
      "metadata": {
        "id": "RJ0Xpzxsb8Y_"
      },
      "execution_count": null,
      "outputs": []
    },
    {
      "cell_type": "markdown",
      "source": [
        "**The coding experience respondents have based on gender**"
      ],
      "metadata": {
        "id": "nqwwX9t2cFHd"
      }
    },
    {
      "cell_type": "code",
      "source": [
        "\n",
        "# Create a count plot for 'Q2' with hue 'Q3'\n",
        "plt.figure(figsize=(12, 6))\n",
        "sns.countplot(data=df, x='Q11', order=df['Q11'].value_counts().index,\n",
        "              hue='Q3')\n",
        "plt.title('Coding experience of participants and gender distribution')\n",
        "plt.xlabel('Coding experience (years)')\n",
        "plt.ylabel('Count')\n",
        "plt.xticks( rotation=45, size=12)\n",
        "plt.yticks( size=12)\n",
        "# Move the legend outside the plot for better visibility\n",
        "plt.legend(loc='upper right', bbox_to_anchor=(1, 1))\n",
        "\n",
        "# The bbox_to_anchor parameter is used to specify the exact placement of the legend in relation to the axes.\n",
        "# In the context of plt.legend(), the bbox_to_anchor parameter takes a tuple of two values, where the first value\n",
        "# represents the x-coordinate, and the second value represents the y-coordinate.\n",
        "\n",
        "plt.show()"
      ],
      "metadata": {
        "id": "LryWkUV5cAV9"
      },
      "execution_count": null,
      "outputs": []
    },
    {
      "cell_type": "markdown",
      "source": [
        "**Job title vs Job activities based on gender**"
      ],
      "metadata": {
        "id": "dGB3QoCIcUtI"
      }
    },
    {
      "cell_type": "code",
      "source": [
        "# Job title vs Job activities based on gender\n",
        "df_current_job=df['Q23'].value_counts()\n",
        "df_current_job\n",
        "# Create a count plot for 'Q23' with hue 'Q3'\n",
        "plt.figure(figsize=(12, 6))\n",
        "ax = sns.countplot(data=df, x='Q23', order=df['Q23'].value_counts().index)\n",
        "plt.title('Current job of participants and gender distribution')\n",
        "plt.xlabel('Job title')\n",
        "plt.ylabel('Count')\n",
        "plt.xticks(rotation=45, ha='right', size=10)\n",
        "\n",
        "# Adjust the legend placement\n",
        "plt.legend(loc='upper right', bbox_to_anchor=(1, 1))\n",
        "\n",
        "# Annotate percentage values on top of each bar\n",
        "total_height = len(df['Q23'])\n",
        "for i, p in enumerate(ax.patches):\n",
        "    percentage = '{:.1f}%'.format(100 * p.get_height() / total_height)\n",
        "    x = p.get_x() + p.get_width() / 2\n",
        "    y = p.get_height() + 0.01 * total_height if i > 0 else 0.01 * total_height\n",
        "    ax.annotate(percentage, (x, y), ha='center')\n",
        "\n",
        "plt.show()\n"
      ],
      "metadata": {
        "id": "giQ5pch_cI8W"
      },
      "execution_count": null,
      "outputs": []
    },
    {
      "cell_type": "code",
      "source": [
        "# Create a count plot for 'Q23' with hue 'Q3'\n",
        "plt.figure(figsize=(12, 6))\n",
        "ax = sns.countplot(data=df, x='Q23', order=df['Q23'].value_counts().index, hue='Q3')\n",
        "plt.title('Current job of participants and gender distribution')\n",
        "plt.xlabel('Job title')\n",
        "plt.ylabel('Count')\n",
        "plt.xticks(rotation=45, ha='right', size=10)\n",
        "\n",
        "# Adjust the legend placement\n",
        "plt.legend(loc='upper right', bbox_to_anchor=(1, 1))\n",
        "\n",
        "\n",
        "plt.show()"
      ],
      "metadata": {
        "id": "UuaomXRucO9g"
      },
      "execution_count": null,
      "outputs": []
    },
    {
      "cell_type": "markdown",
      "source": [
        "**Popular media reading sources that report on data science topics and preferences based on gender**"
      ],
      "metadata": {
        "id": "mShAuECbcn2P"
      }
    },
    {
      "cell_type": "code",
      "source": [
        "# Popular media reading sources that report on data science topics and preferences based on gender\n",
        "# header_removed = df.iloc[1: , :] Already done before\n",
        "header_removed = df\n",
        "# Select relevant columns from the DataFrame\n",
        "df3=header_removed[[\"Q2\",\"Q3\",\"Q4\", \"Q44_1\",\"Q44_2\",\"Q44_3\",\"Q44_4\",\"Q44_5\",\"Q44_6\",\"Q44_7\",\"Q44_8\",\"Q44_9\",\"Q44_10\",\"Q44_11\",\"Q44_12\"]]\n",
        "# Filter rows based on countries (India, USA, Nigeria, Brazil, Pakistan) in the 'Q4' column\n",
        "df3= df3.loc[((df3['Q4'] == \"India\") | (df3['Q4'] == \"United States of America\")| (df3['Q4'] == \"Nigeria\")| (df3['Q4'] == \"Brazil\")| (df3['Q4'] == \"Pakistan\"))]\n",
        "# Remove rows with certain gender values ('Prefer not to say', 'Nonbinary', 'Prefer to self-describe') in the 'Q3' column\n",
        "df3.drop(df3[(df3[\"Q3\"] == 'Prefer not to say') | (df3[\"Q3\"] == 'Nonbinary') | (df3[\"Q3\"] == 'Prefer to self-describe')].index, inplace=True)\n",
        "# Reset the index of the DataFrame after filtering\n",
        "df3.reset_index()\n",
        "# Create a new DataFrame by dropping specific columns related to Q44\n",
        "mergedq44 = df3.drop([\"Q44_1\",\"Q44_3\",\"Q44_4\",\"Q44_5\",\"Q44_6\",\"Q44_7\",\"Q44_10\",\"Q44_11\",\"Q44_12\"],axis=1)\n",
        "# Reset the index of the new DataFrame (Note: The reset_index() method returns a new DataFrame with the index reset)\n",
        "mergedq44.reset_index()\n",
        "# Create a new column 'blog_mail_pub' by concatenating non-null values in selected columns\n",
        "mergedq44['blog_mail_pub'] = mergedq44[mergedq44.columns[3:]].apply(\n",
        "    lambda x: ','.join(x.dropna().astype(str)),\n",
        "    axis=1\n",
        ")\n",
        "# mergedq44['blog_mail_pub'].value_counts()\n",
        "\n",
        "\n",
        "mergedq44['blog_mail_pub'] = mergedq44['blog_mail_pub'].replace({\"Email newsletters (Data Elixir, O'Reilly Data & AI, etc),Blogs (Towards Data Science, Analytics Vidhya, etc),Journal Publications (peer-reviewed journals, conference proceedings, etc)\": \"Email newsletters + Blogs + Publications\"})\n",
        "mergedq44['blog_mail_pub'] = mergedq44['blog_mail_pub'].replace({'Blogs (Towards Data Science, Analytics Vidhya, etc)': \"Blogs\"})\n",
        "mergedq44['blog_mail_pub'] = mergedq44['blog_mail_pub'].replace({\"Email newsletters (Data Elixir, O'Reilly Data & AI, etc)\": \"Email newsletters\"})\n",
        "mergedq44['blog_mail_pub'] = mergedq44['blog_mail_pub'].replace({\"Email newsletters (Data Elixir, O'Reilly Data & AI, etc),Blogs (Towards Data Science, Analytics Vidhya, etc)\": \"Email newsletters + Blogs\"})\n",
        "mergedq44['blog_mail_pub'] = mergedq44['blog_mail_pub'].replace({'Blogs (Towards Data Science, Analytics Vidhya, etc),Journal Publications (peer-reviewed journals, conference proceedings, etc)': \"Blogs + Publications\"})\n",
        "mergedq44['blog_mail_pub'] = mergedq44['blog_mail_pub'].replace({'Journal Publications (peer-reviewed journals, conference proceedings, etc)': \"Publicatons\"})\n",
        "mergedq44['blog_mail_pub'] = mergedq44['blog_mail_pub'].replace({\"Email newsletters (Data Elixir, O'Reilly Data & AI, etc),Journal Publications (peer-reviewed journals, conference proceedings, etc) \": \"Email newsletters + Publicatons\"})\n",
        "\n",
        "\n",
        "mergedq44.reset_index()\n",
        "mergedq44['blog_mail_pub'].value_counts()\n",
        "# fig = px.sunburst(mergedq44.reset_index() , path=['blog_mail_pub',\"Q3\"],\n",
        "#                   #values=\"index\",\n",
        "#                   color_discrete_sequence=px.colors.qualitative.Alphabet,\n",
        "#                  hover_name='blog_mail_pub',\n",
        "#                  title=\"Platform preference for online data science reading \")\n",
        "# fig.show()\n",
        "\n",
        "\n",
        "mergedq44.head(10)\n"
      ],
      "metadata": {
        "id": "gTezicuhcdD8"
      },
      "execution_count": null,
      "outputs": []
    },
    {
      "cell_type": "markdown",
      "source": [
        "**Explanation**\n",
        "\n",
        "**mergedq44['blog_mail_pub']:** This part on the left side of the equal sign specifies that a new column named 'blog_mail_pub' is being created in the DataFrame `mergedq44`. This column will store the concatenated values of the selected columns.\n",
        "\n",
        "**mergedq44[mergedq44.columns[3:]]:** This part on the right side of the equal sign selects a subset of columns starting from the fourth column (index 3) to the end in the DataFrame `mergedq44`.\n",
        "\n",
        "**.apply(...):** The `apply` function is used to apply a function along the axis of the DataFrame.\n",
        "\n",
        "**lambda x: ','.join(x.dropna().astype(str)):** This is a lambda (anonymous) function that takes a Series `x` (each row of the selected columns) and performs the following operations:\n",
        "   - `.dropna()`: Drops any missing (NaN) values from the Series.\n",
        "   - `.astype(str)`: Converts the remaining values to strings.\n",
        "   - `','.join(...)`: Joins the non-null values into a single string, separated by commas.\n",
        "\n",
        "**axis=1:** Specifies that the lambda function should be applied along the rows (across columns).\n",
        "\n",
        "In summary, the line of code is creating a new column 'blog_mail_pub' by concatenating the non-null values from selected columns in each row, and separating them with commas. This is a common technique to combine information from multiple columns into a single column for better analysis or visualization.\n"
      ],
      "metadata": {
        "id": "08FyFWoBcgwV"
      }
    },
    {
      "cell_type": "markdown",
      "source": [
        "\n",
        "\n",
        "---\n",
        "\n"
      ],
      "metadata": {
        "id": "R14ERQ2gamxn"
      }
    },
    {
      "cell_type": "markdown",
      "metadata": {
        "id": "boLVzByMY40Z"
      },
      "source": [
        "# Titanic Exploratory Data Analysis"
      ]
    },
    {
      "cell_type": "markdown",
      "metadata": {
        "id": "uDH8FmphY40a"
      },
      "source": [
        "The purpose of EDA is to use summary statistics and visualizations to better understand data, and find clues about the tendencies (the patterns and trends in the data) of the data, its quality and to formulate assumptions and the hypothesis of our analysis. At this stage, all the useful insights are drawn and correlations between the variables are understood.\n",
        "EDA or Exploratory Data Analysis is an approach for summarizing, visualizing, and becoming intimately familiar with the important characteristics of a data set."
      ]
    },
    {
      "cell_type": "markdown",
      "metadata": {
        "id": "DHyiZXfsY40b"
      },
      "source": [
        "The main objective is to cover how to:\n",
        "1. Read and examine a dataset and classify variables by their type: Quantitative vs. Categorical\n",
        "2. Handle categorical variables with numerically coded values\n",
        "3. Perform univariate and bivariate analysis and derive meaningful insights about the dataset\n",
        "4. Identify and treat missing values and remove dataset outliers\n",
        "5. Build a correlation matrix to identify relevant variables"
      ]
    },
    {
      "cell_type": "markdown",
      "metadata": {
        "id": "nuQJSB8JY40b"
      },
      "source": [
        "**Firstly we need to import the libraries required to go further**"
      ]
    },
    {
      "cell_type": "code",
      "execution_count": null,
      "metadata": {
        "id": "nRnDOwAIY40b"
      },
      "outputs": [],
      "source": [
        "import pandas as pd\n",
        "import numpy as np\n",
        "import matplotlib.pyplot as plt\n",
        "import seaborn as sns"
      ]
    },
    {
      "cell_type": "markdown",
      "metadata": {
        "id": "XTL4uCeuY40c"
      },
      "source": [
        "**Let’s load the data in a data frame and check how data looks like**"
      ]
    },
    {
      "cell_type": "code",
      "execution_count": null,
      "metadata": {
        "id": "0ajg3x_sY40c",
        "outputId": "fd29b911-5aa6-41d6-9df5-534f1d1c8bac"
      },
      "outputs": [
        {
          "data": {
            "text/html": [
              "<div>\n",
              "<style scoped>\n",
              "    .dataframe tbody tr th:only-of-type {\n",
              "        vertical-align: middle;\n",
              "    }\n",
              "\n",
              "    .dataframe tbody tr th {\n",
              "        vertical-align: top;\n",
              "    }\n",
              "\n",
              "    .dataframe thead th {\n",
              "        text-align: right;\n",
              "    }\n",
              "</style>\n",
              "<table border=\"1\" class=\"dataframe\">\n",
              "  <thead>\n",
              "    <tr style=\"text-align: right;\">\n",
              "      <th></th>\n",
              "      <th>PassengerId</th>\n",
              "      <th>Survived</th>\n",
              "      <th>Pclass</th>\n",
              "      <th>Name</th>\n",
              "      <th>Sex</th>\n",
              "      <th>Age</th>\n",
              "      <th>SibSp</th>\n",
              "      <th>Parch</th>\n",
              "      <th>Ticket</th>\n",
              "      <th>Fare</th>\n",
              "      <th>Cabin</th>\n",
              "      <th>Embarked</th>\n",
              "    </tr>\n",
              "  </thead>\n",
              "  <tbody>\n",
              "    <tr>\n",
              "      <th>0</th>\n",
              "      <td>1</td>\n",
              "      <td>0</td>\n",
              "      <td>3</td>\n",
              "      <td>Braund, Mr. Owen Harris</td>\n",
              "      <td>male</td>\n",
              "      <td>22.0</td>\n",
              "      <td>1</td>\n",
              "      <td>0</td>\n",
              "      <td>A/5 21171</td>\n",
              "      <td>7.2500</td>\n",
              "      <td>NaN</td>\n",
              "      <td>S</td>\n",
              "    </tr>\n",
              "    <tr>\n",
              "      <th>1</th>\n",
              "      <td>2</td>\n",
              "      <td>1</td>\n",
              "      <td>1</td>\n",
              "      <td>Cumings, Mrs. John Bradley (Florence Briggs Th...</td>\n",
              "      <td>female</td>\n",
              "      <td>38.0</td>\n",
              "      <td>1</td>\n",
              "      <td>0</td>\n",
              "      <td>PC 17599</td>\n",
              "      <td>71.2833</td>\n",
              "      <td>C85</td>\n",
              "      <td>C</td>\n",
              "    </tr>\n",
              "    <tr>\n",
              "      <th>2</th>\n",
              "      <td>3</td>\n",
              "      <td>1</td>\n",
              "      <td>3</td>\n",
              "      <td>Heikkinen, Miss. Laina</td>\n",
              "      <td>female</td>\n",
              "      <td>26.0</td>\n",
              "      <td>0</td>\n",
              "      <td>0</td>\n",
              "      <td>STON/O2. 3101282</td>\n",
              "      <td>7.9250</td>\n",
              "      <td>NaN</td>\n",
              "      <td>S</td>\n",
              "    </tr>\n",
              "    <tr>\n",
              "      <th>3</th>\n",
              "      <td>4</td>\n",
              "      <td>1</td>\n",
              "      <td>1</td>\n",
              "      <td>Futrelle, Mrs. Jacques Heath (Lily May Peel)</td>\n",
              "      <td>female</td>\n",
              "      <td>35.0</td>\n",
              "      <td>1</td>\n",
              "      <td>0</td>\n",
              "      <td>113803</td>\n",
              "      <td>53.1000</td>\n",
              "      <td>C123</td>\n",
              "      <td>S</td>\n",
              "    </tr>\n",
              "    <tr>\n",
              "      <th>4</th>\n",
              "      <td>5</td>\n",
              "      <td>0</td>\n",
              "      <td>3</td>\n",
              "      <td>Allen, Mr. William Henry</td>\n",
              "      <td>male</td>\n",
              "      <td>35.0</td>\n",
              "      <td>0</td>\n",
              "      <td>0</td>\n",
              "      <td>373450</td>\n",
              "      <td>8.0500</td>\n",
              "      <td>NaN</td>\n",
              "      <td>S</td>\n",
              "    </tr>\n",
              "  </tbody>\n",
              "</table>\n",
              "</div>"
            ],
            "text/plain": [
              "   PassengerId  Survived  Pclass  \\\n",
              "0            1         0       3   \n",
              "1            2         1       1   \n",
              "2            3         1       3   \n",
              "3            4         1       1   \n",
              "4            5         0       3   \n",
              "\n",
              "                                                Name     Sex   Age  SibSp  \\\n",
              "0                            Braund, Mr. Owen Harris    male  22.0      1   \n",
              "1  Cumings, Mrs. John Bradley (Florence Briggs Th...  female  38.0      1   \n",
              "2                             Heikkinen, Miss. Laina  female  26.0      0   \n",
              "3       Futrelle, Mrs. Jacques Heath (Lily May Peel)  female  35.0      1   \n",
              "4                           Allen, Mr. William Henry    male  35.0      0   \n",
              "\n",
              "   Parch            Ticket     Fare Cabin Embarked  \n",
              "0      0         A/5 21171   7.2500   NaN        S  \n",
              "1      0          PC 17599  71.2833   C85        C  \n",
              "2      0  STON/O2. 3101282   7.9250   NaN        S  \n",
              "3      0            113803  53.1000  C123        S  \n",
              "4      0            373450   8.0500   NaN        S  "
            ]
          },
          "execution_count": 4,
          "metadata": {},
          "output_type": "execute_result"
        }
      ],
      "source": [
        "data = pd.read_csv(\"train.csv\")\n",
        "data.head()"
      ]
    },
    {
      "cell_type": "markdown",
      "metadata": {
        "id": "YjZjOYsxY40c"
      },
      "source": [
        "* This is how our Data looks like."
      ]
    },
    {
      "cell_type": "markdown",
      "metadata": {
        "id": "2vEkVEEMY40c"
      },
      "source": [
        "**Fetch some info about data by .info()**"
      ]
    },
    {
      "cell_type": "code",
      "execution_count": null,
      "metadata": {
        "id": "DwxbzkKGY40d",
        "outputId": "5deeb3f0-3f8f-4e17-ec35-de841d57384b"
      },
      "outputs": [
        {
          "name": "stdout",
          "output_type": "stream",
          "text": [
            "Shape of data is : (891, 12)\n",
            "****************************************************************************************************\n",
            "<class 'pandas.core.frame.DataFrame'>\n",
            "RangeIndex: 891 entries, 0 to 890\n",
            "Data columns (total 12 columns):\n",
            " #   Column       Non-Null Count  Dtype  \n",
            "---  ------       --------------  -----  \n",
            " 0   PassengerId  891 non-null    int64  \n",
            " 1   Survived     891 non-null    int64  \n",
            " 2   Pclass       891 non-null    int64  \n",
            " 3   Name         891 non-null    object \n",
            " 4   Sex          891 non-null    object \n",
            " 5   Age          714 non-null    float64\n",
            " 6   SibSp        891 non-null    int64  \n",
            " 7   Parch        891 non-null    int64  \n",
            " 8   Ticket       891 non-null    object \n",
            " 9   Fare         891 non-null    float64\n",
            " 10  Cabin        204 non-null    object \n",
            " 11  Embarked     889 non-null    object \n",
            "dtypes: float64(2), int64(5), object(5)\n",
            "memory usage: 83.7+ KB\n"
          ]
        }
      ],
      "source": [
        "print(\"Shape of data is :\",data.shape)\n",
        "print(\"*\"*100)\n",
        "data.info()"
      ]
    },
    {
      "cell_type": "markdown",
      "metadata": {
        "id": "wZKmUUHLY40d"
      },
      "source": [
        "**Observations:**"
      ]
    },
    {
      "cell_type": "markdown",
      "metadata": {
        "id": "64YYK4I7Y40d"
      },
      "source": [
        "\n",
        "1. Shape of data is (891,12) means in our data set we have 891 rows and 12 columns. Each row has info about a passenger so totally we have data of 891 passengers.\n",
        "2. In above output , column consist the name of the column , Non-null Count means How many non-null values we have in that column , Dtype means What type of value that column consits ( int64 means int value , float64 means float value, object means string value)\n",
        "3. In age column we can see, Out of 891 values we have 714 non null values. It implies that we have 177 Null values. ( 891–714 = 177)\n",
        "4. Same in the Cabin feature Out of 891 values we have only 204 non-null values. it implies that we have 687 Null values. But this is Huge . we have only 23% of values present in data set and 77% values are missing so we can drop this feature while making our model.\n",
        "5. Except age and cabin any features does not have any null values."
      ]
    },
    {
      "cell_type": "markdown",
      "metadata": {
        "id": "hHqaakPtY40d"
      },
      "source": [
        "**Fetch some info about numerical features by .describe()**"
      ]
    },
    {
      "cell_type": "code",
      "execution_count": null,
      "metadata": {
        "id": "Yn1t7gYnY40d",
        "outputId": "3c29fdef-4975-4f41-b988-c45824560447"
      },
      "outputs": [
        {
          "data": {
            "text/html": [
              "<div>\n",
              "<style scoped>\n",
              "    .dataframe tbody tr th:only-of-type {\n",
              "        vertical-align: middle;\n",
              "    }\n",
              "\n",
              "    .dataframe tbody tr th {\n",
              "        vertical-align: top;\n",
              "    }\n",
              "\n",
              "    .dataframe thead th {\n",
              "        text-align: right;\n",
              "    }\n",
              "</style>\n",
              "<table border=\"1\" class=\"dataframe\">\n",
              "  <thead>\n",
              "    <tr style=\"text-align: right;\">\n",
              "      <th></th>\n",
              "      <th>PassengerId</th>\n",
              "      <th>Survived</th>\n",
              "      <th>Pclass</th>\n",
              "      <th>Age</th>\n",
              "      <th>SibSp</th>\n",
              "      <th>Parch</th>\n",
              "      <th>Fare</th>\n",
              "    </tr>\n",
              "  </thead>\n",
              "  <tbody>\n",
              "    <tr>\n",
              "      <th>count</th>\n",
              "      <td>891.000000</td>\n",
              "      <td>891.000000</td>\n",
              "      <td>891.000000</td>\n",
              "      <td>714.000000</td>\n",
              "      <td>891.000000</td>\n",
              "      <td>891.000000</td>\n",
              "      <td>891.000000</td>\n",
              "    </tr>\n",
              "    <tr>\n",
              "      <th>mean</th>\n",
              "      <td>446.000000</td>\n",
              "      <td>0.383838</td>\n",
              "      <td>2.308642</td>\n",
              "      <td>29.699118</td>\n",
              "      <td>0.523008</td>\n",
              "      <td>0.381594</td>\n",
              "      <td>32.204208</td>\n",
              "    </tr>\n",
              "    <tr>\n",
              "      <th>std</th>\n",
              "      <td>257.353842</td>\n",
              "      <td>0.486592</td>\n",
              "      <td>0.836071</td>\n",
              "      <td>14.526497</td>\n",
              "      <td>1.102743</td>\n",
              "      <td>0.806057</td>\n",
              "      <td>49.693429</td>\n",
              "    </tr>\n",
              "    <tr>\n",
              "      <th>min</th>\n",
              "      <td>1.000000</td>\n",
              "      <td>0.000000</td>\n",
              "      <td>1.000000</td>\n",
              "      <td>0.420000</td>\n",
              "      <td>0.000000</td>\n",
              "      <td>0.000000</td>\n",
              "      <td>0.000000</td>\n",
              "    </tr>\n",
              "    <tr>\n",
              "      <th>25%</th>\n",
              "      <td>223.500000</td>\n",
              "      <td>0.000000</td>\n",
              "      <td>2.000000</td>\n",
              "      <td>20.125000</td>\n",
              "      <td>0.000000</td>\n",
              "      <td>0.000000</td>\n",
              "      <td>7.910400</td>\n",
              "    </tr>\n",
              "    <tr>\n",
              "      <th>50%</th>\n",
              "      <td>446.000000</td>\n",
              "      <td>0.000000</td>\n",
              "      <td>3.000000</td>\n",
              "      <td>28.000000</td>\n",
              "      <td>0.000000</td>\n",
              "      <td>0.000000</td>\n",
              "      <td>14.454200</td>\n",
              "    </tr>\n",
              "    <tr>\n",
              "      <th>75%</th>\n",
              "      <td>668.500000</td>\n",
              "      <td>1.000000</td>\n",
              "      <td>3.000000</td>\n",
              "      <td>38.000000</td>\n",
              "      <td>1.000000</td>\n",
              "      <td>0.000000</td>\n",
              "      <td>31.000000</td>\n",
              "    </tr>\n",
              "    <tr>\n",
              "      <th>max</th>\n",
              "      <td>891.000000</td>\n",
              "      <td>1.000000</td>\n",
              "      <td>3.000000</td>\n",
              "      <td>80.000000</td>\n",
              "      <td>8.000000</td>\n",
              "      <td>6.000000</td>\n",
              "      <td>512.329200</td>\n",
              "    </tr>\n",
              "  </tbody>\n",
              "</table>\n",
              "</div>"
            ],
            "text/plain": [
              "       PassengerId    Survived      Pclass         Age       SibSp  \\\n",
              "count   891.000000  891.000000  891.000000  714.000000  891.000000   \n",
              "mean    446.000000    0.383838    2.308642   29.699118    0.523008   \n",
              "std     257.353842    0.486592    0.836071   14.526497    1.102743   \n",
              "min       1.000000    0.000000    1.000000    0.420000    0.000000   \n",
              "25%     223.500000    0.000000    2.000000   20.125000    0.000000   \n",
              "50%     446.000000    0.000000    3.000000   28.000000    0.000000   \n",
              "75%     668.500000    1.000000    3.000000   38.000000    1.000000   \n",
              "max     891.000000    1.000000    3.000000   80.000000    8.000000   \n",
              "\n",
              "            Parch        Fare  \n",
              "count  891.000000  891.000000  \n",
              "mean     0.381594   32.204208  \n",
              "std      0.806057   49.693429  \n",
              "min      0.000000    0.000000  \n",
              "25%      0.000000    7.910400  \n",
              "50%      0.000000   14.454200  \n",
              "75%      0.000000   31.000000  \n",
              "max      6.000000  512.329200  "
            ]
          },
          "execution_count": 6,
          "metadata": {},
          "output_type": "execute_result"
        }
      ],
      "source": [
        "data.describe()"
      ]
    },
    {
      "cell_type": "markdown",
      "metadata": {
        "id": "oNpjO5TjY40d"
      },
      "source": [
        "**Observations:**"
      ]
    },
    {
      "cell_type": "markdown",
      "metadata": {
        "id": "GK1ESF7CY40e"
      },
      "source": [
        "1. Here some features are not necessary like passengerId. so we will ignore that. Only features which can be consider as numerical and need to analysis as numerical features are Age & Fare.\n",
        "\n",
        "2. In Age feature we can see count is as 714 it means for 714 persons we have age value, else are missing. We have seen this above right.??. We have Mean as 29.69 , It means The mean age of all the passengers is 29.69 Years. Std (stander deviation ) as 14.52 It means most of the people have age in the range (29.69-14.52) to (29.69+14.52) because in a continuous Random Variable most of the values can be found in the range of (mean-std) to (mean+std). The min age as 0.42 in above image so It means out of all passengers we have 0.4 years old as the minimum age of any passenger. And We have 25% value(25th Percentile value) as 20.12 years It means 25% of passengers have Age less than 20.12 years. same we have 50%value (50th percentile value) as 28.00 It Means 50% of the passengers have age less than 28.00 years. same as 75% value (75th percentile value) we have as 38.00 It means 75% people has Age less than 38.00 years. Max value we can see as 80.00 years It Means out of all passengers the Highest aged person has age 80.00 Years.\n",
        "\n",
        "3. Same like Age feature Analysis , you can analyze Fare feature."
      ]
    },
    {
      "cell_type": "markdown",
      "metadata": {
        "id": "mk1VdtoHY40e"
      },
      "source": [
        "**Get info about balanced or imbalanced data set.**"
      ]
    },
    {
      "cell_type": "code",
      "execution_count": null,
      "metadata": {
        "id": "oZBn8Iw-Y40e",
        "outputId": "05d61997-cc16-4075-80c5-80e1059d5676"
      },
      "outputs": [
        {
          "data": {
            "text/plain": [
              "Survived\n",
              "no     549\n",
              "yes    342\n",
              "Name: count, dtype: int64"
            ]
          },
          "execution_count": 7,
          "metadata": {},
          "output_type": "execute_result"
        }
      ],
      "source": [
        "data[\"Survived\"] = data[\"Survived\"].map({1:\"yes\" , 0 :\"no\"})\n",
        "data[\"Survived\"].value_counts()"
      ]
    },
    {
      "cell_type": "markdown",
      "metadata": {
        "id": "iIvsqxrHY40e"
      },
      "source": [
        "**Observations-**"
      ]
    },
    {
      "cell_type": "markdown",
      "metadata": {
        "id": "HR3Yk_k1Y40e"
      },
      "source": [
        "* We can see out of 891 passengers , 549 can not survived in that disaster And 342 Survived. So the data we have can not be said as imbalanced. neither it is perfectly balanced . it is like ok ok situation."
      ]
    },
    {
      "cell_type": "markdown",
      "metadata": {
        "id": "n6T8SjYWY40e"
      },
      "source": [
        "**Bi-variate Analysis-**"
      ]
    },
    {
      "cell_type": "markdown",
      "metadata": {
        "id": "RIp3rLApY40e"
      },
      "source": [
        "* Pair plots are the most widely used plots to perform visualization bi-variate analysis. But the problem with pair plot is if we have n features in dataset then it returns n*n plots. in current data set we have 12 features now so it will return 12*12= 144 plots which is again not easy to analyze. so we will take only a subset of features and analyze them."
      ]
    },
    {
      "cell_type": "code",
      "execution_count": null,
      "metadata": {
        "id": "V4pkDnO6Y40e",
        "outputId": "3cedd020-1e2d-4860-bcaf-1921eb6df3a8"
      },
      "outputs": [
        {
          "name": "stderr",
          "output_type": "stream",
          "text": [
            "c:\\Users\\DELL\\AppData\\Local\\Programs\\Python\\Python312\\Lib\\site-packages\\seaborn\\axisgrid.py:2100: UserWarning: The `size` parameter has been renamed to `height`; please update your code.\n",
            "  warnings.warn(msg, UserWarning)\n"
          ]
        },
        {
          "data": {
            "image/png": "[encoded data removed]",
            "text/plain": [
              "<Figure size 971.625x900 with 12 Axes>"
            ]
          },
          "metadata": {},
          "output_type": "display_data"
        }
      ],
      "source": [
        "# here we take only 4 features to  perform analysis.\n",
        "sns.set_style(\"whitegrid\");\n",
        "sns.pairplot(data[[\"Survived\",\"Pclass\",\"Fare\",\"Age\"]], hue=\"Survived\", size=3);\n",
        "plt.show()"
      ]
    },
    {
      "cell_type": "markdown",
      "metadata": {
        "id": "LdNp1am_Y40f"
      },
      "source": [
        "**Observations-**"
      ]
    },
    {
      "cell_type": "markdown",
      "metadata": {
        "id": "4DSxUOzuY40f"
      },
      "source": [
        "* From the above grid of plots we can see that, passengers who paid higher fare or travelling in upper class has a higher chances to survive.\n",
        "* Age is also giving some info like young persons have a higher chance to survive than old peoples.\n",
        "* The picture is not very clear with pair plots so lets go towards uni-variate analysis to understand what exactly is happening."
      ]
    },
    {
      "cell_type": "markdown",
      "metadata": {
        "id": "oDzfX85msfiR"
      },
      "source": [
        "**Uni-variate Analysis**"
      ]
    },
    {
      "cell_type": "markdown",
      "metadata": {
        "id": "F5ZOoS7JrDZP"
      },
      "source": [
        "**1.Survived Feature**"
      ]
    },
    {
      "cell_type": "code",
      "execution_count": null,
      "metadata": {
        "id": "plDThPFBrDZP",
        "outputId": "da2ca9f5-1a72-45f8-a6e0-b709bfda215f"
      },
      "outputs": [
        {
          "data": {
            "text/plain": [
              "<Axes: xlabel='count', ylabel='Survived'>"
            ]
          },
          "execution_count": 8,
          "metadata": {},
          "output_type": "execute_result"
        },
        {
          "data": {
            "image/png": "[encoded data removed]",
            "text/plain": [
              "<Figure size 640x480 with 1 Axes>"
            ]
          },
          "metadata": {},
          "output_type": "display_data"
        }
      ],
      "source": [
        "# Countplot counts the each category of value and plot that.\n",
        "sns.countplot(data[\"Survived\"])"
      ]
    },
    {
      "cell_type": "markdown",
      "metadata": {
        "id": "f2iTXOkUrDZQ"
      },
      "source": [
        "**Observations**:"
      ]
    },
    {
      "cell_type": "markdown",
      "metadata": {
        "id": "8Q1Om06ErDZQ"
      },
      "source": [
        "* As we can see ‘no’ has the value > 500 means these people can’t survived in the disaster & approx 350 people survived. It is telling same story like we have seen above."
      ]
    },
    {
      "cell_type": "markdown",
      "metadata": {
        "id": "ahnAV8LWrDZQ"
      },
      "source": [
        "**2. Pclass- Feature**"
      ]
    },
    {
      "cell_type": "code",
      "execution_count": null,
      "metadata": {
        "id": "UcLzlBZ1rDZQ",
        "outputId": "d95a3305-2be0-4dcd-fd3d-756f6585a5bb"
      },
      "outputs": [
        {
          "data": {
            "text/plain": [
              "<matplotlib.axes._subplots.AxesSubplot at 0x1f53c419080>"
            ]
          },
          "execution_count": 38,
          "metadata": {},
          "output_type": "execute_result"
        },
        {
          "data": {
            "image/png": "[encoded data removed]",
            "text/plain": [
              "<Figure size 432x288 with 1 Axes>"
            ]
          },
          "metadata": {},
          "output_type": "display_data"
        }
      ],
      "source": [
        "sns.countplot(data[\"Pclass\"],hue = data[\"Survived\"],data = data)"
      ]
    },
    {
      "cell_type": "markdown",
      "metadata": {
        "id": "KL3rwxdnrDZQ"
      },
      "source": [
        "**Observations**"
      ]
    },
    {
      "cell_type": "markdown",
      "metadata": {
        "id": "ggMLRMSPrDZQ"
      },
      "source": [
        "* In above output plot we can see Persons who were travelling in 3rd class , mostly of them died or can not survived than other class passengers.\n",
        "* Persons who were travelling in 2nd class, out of them almost equal number of people died and survived.\n",
        "* Persons who were travelling in 1st class, out of them large number of people survived and also fair number of persons died.\n",
        "* So as the conclusion we can say that person who were travelling in lower class like 3rd has higher chances to died. & persons who were travelling in higher class like 1st has higher chance to survive."
      ]
    },
    {
      "cell_type": "markdown",
      "metadata": {
        "id": "kKM0AfmdrDZQ"
      },
      "source": [
        "**3.Sex- Feature**"
      ]
    },
    {
      "cell_type": "code",
      "execution_count": null,
      "metadata": {
        "id": "_B3DzklUrDZQ",
        "outputId": "5ecc46c4-5e52-41cf-eae9-e30b38e993d3"
      },
      "outputs": [
        {
          "data": {
            "text/plain": [
              "<matplotlib.axes._subplots.AxesSubplot at 0x1f53c681208>"
            ]
          },
          "execution_count": 42,
          "metadata": {},
          "output_type": "execute_result"
        },
        {
          "data": {
            "image/png": "[encoded data removed]",
            "text/plain": [
              "<Figure size 432x288 with 1 Axes>"
            ]
          },
          "metadata": {},
          "output_type": "display_data"
        }
      ],
      "source": [
        "sns.countplot(data[\"Sex\"],hue = data[\"Survived\"],data = data)"
      ]
    },
    {
      "cell_type": "markdown",
      "metadata": {
        "id": "zkgZHUh3rDZR"
      },
      "source": [
        "**Observations-**"
      ]
    },
    {
      "cell_type": "markdown",
      "metadata": {
        "id": "UDdsdAf3rDZR"
      },
      "source": [
        "* As we can see in above plot Out of all male passengers mostly of them died. And out of all Female passengers most of them survived.\n",
        "* So as the conclusion we can say male passenger has higher chances to die and female passengers has higher chance to survive.Or Because of Ladies First policy , priorities were given to female passengers so the chances of survival for female passengers is increased than male passengers."
      ]
    },
    {
      "cell_type": "markdown",
      "metadata": {
        "id": "Plur66TirDZR"
      },
      "source": [
        "**4.Age-Feature-**"
      ]
    },
    {
      "cell_type": "markdown",
      "metadata": {
        "id": "f34nfn6KrDZR"
      },
      "source": [
        "* Age feature consist some null values so first we need to handle that. Here i am filling the null values with median of Age Feature. we know that the median of Age feature is 28.\n",
        "* Age is a numerical feature so we can’t plot a count plot for Age feature. we need to plot pdf for Age Feature."
      ]
    },
    {
      "cell_type": "markdown",
      "metadata": {
        "id": "L4B4NaPrrDZR"
      },
      "source": [
        "**PdfS (Probability Density Functions):**\n",
        "\n",
        "Pdfs stands for Probability Density Functions. In the context of data visualization, it usually refers to the probability distribution of a continuous random variable. In this case, the code seems to be plotting the probability density functions for the \"Age\" variable based on the \"Survived\" categories.\n",
        "\n",
        "**FacetGrid:**\n",
        "\n",
        "sns.FacetGrid is a Seaborn function that facilitates the creation of a grid of subplots based on the values of one or more categorical variables. It allows you to create multiple plots, each corresponding to a different category or combination of categories.\n",
        "In this code, a FacetGrid is created based on the \"Survived\" variable, and the grid is used to visualize the distribution of the \"Age\" variable within each category. The hue=\"Survived\" parameter indicates that the color of the plots will be based on the \"Survived\" category.\n",
        "The size=5 parameter sets the size of each subplot in the grid.\n",
        "\n",
        "**map(sns.distplot, \"Age\")**\n",
        "\n",
        "The map function is used to apply a plotting function (sns.distplot in this case) to each subset of the data defined by the categories in the FacetGrid.\n",
        "sns.distplot is a Seaborn function for plotting the distribution of a univariate set of observations. It combines a histogram with a kernel density estimate.\n",
        "The variable \"Age\" is specified as the one-dimensional data to be plotted."
      ]
    },
    {
      "cell_type": "code",
      "execution_count": null,
      "metadata": {
        "id": "ElF6AB-wrDZS",
        "outputId": "25dace14-4fd5-4f83-d5cf-ced5366bf715"
      },
      "outputs": [
        {
          "name": "stderr",
          "output_type": "stream",
          "text": [
            "C:\\Users\\AC\\Anaconda3\\lib\\site-packages\\seaborn\\distributions.py:218: MatplotlibDeprecationWarning: \n",
            "The 'normed' kwarg was deprecated in Matplotlib 2.1 and will be removed in 3.1. Use 'density' instead.\n",
            "  color=hist_color, **hist_kws)\n",
            "C:\\Users\\AC\\Anaconda3\\lib\\site-packages\\seaborn\\distributions.py:218: MatplotlibDeprecationWarning: \n",
            "The 'normed' kwarg was deprecated in Matplotlib 2.1 and will be removed in 3.1. Use 'density' instead.\n",
            "  color=hist_color, **hist_kws)\n"
          ]
        },
        {
          "data": {
            "image/png": "[encoded data removed]",
            "text/plain": [
              "<Figure size 411.875x360 with 1 Axes>"
            ]
          },
          "metadata": {},
          "output_type": "display_data"
        }
      ],
      "source": [
        "# Filling null Values\n",
        "data = data.fillna(28)\n",
        "\n",
        "# plotting Pdfs\n",
        "sns.FacetGrid(data, hue=\"Survived\", size=5) \\\n",
        "   .map(sns.distplot, \"Age\") \\\n",
        "   .add_legend()\n",
        "plt.show()"
      ]
    },
    {
      "cell_type": "markdown",
      "metadata": {
        "id": "NvrNlnbArDZS"
      },
      "source": [
        "**Observations-**"
      ]
    },
    {
      "cell_type": "markdown",
      "metadata": {
        "id": "1Bca85w6rDZS"
      },
      "source": [
        "* Pdfs are almost overlapping on each other. so we can not conclude anything big clearly. but some of the conclusions are listed bellow.\n",
        "* Passengers who have age <20 years so child's or teenagers , out of them numbers of passengers who survived is greater than numbers of people who died. Means while Rescuing priorities were given to child's or teenagers.\n",
        "* Persons who have age >20 years and <45 years. Out of them numbers of passengers who died is greater than numbers of passengers who survived.\n",
        "* Rest of the pdfs are overlapping much so we will not struggle here much to get some info. But people with age greater then 65 almost all of them died. it could be because of various reasons like people leave them on their luck or they died because of cold water of Atlantic Ocean of that time.. etc.."
      ]
    },
    {
      "cell_type": "markdown",
      "metadata": {
        "id": "tY49yyWDrDZS"
      },
      "source": [
        "**5. Sibsp Feature**"
      ]
    },
    {
      "cell_type": "code",
      "execution_count": null,
      "metadata": {
        "id": "92tWyOsgrDZS",
        "outputId": "25272ba3-7d53-4c73-bc80-bf47685f3257"
      },
      "outputs": [
        {
          "data": {
            "text/plain": [
              "<matplotlib.axes._subplots.AxesSubplot at 0x1aa31016f28>"
            ]
          },
          "execution_count": 12,
          "metadata": {},
          "output_type": "execute_result"
        },
        {
          "data": {
            "image/png": "[encoded data removed]",
            "text/plain": [
              "<Figure size 432x288 with 1 Axes>"
            ]
          },
          "metadata": {},
          "output_type": "display_data"
        }
      ],
      "source": [
        "sns.countplot(data[\"SibSp\"],hue = data[\"Survived\"],data = data)"
      ]
    },
    {
      "cell_type": "markdown",
      "metadata": {
        "id": "FFHYTvQzrDZS"
      },
      "source": [
        "**Observations**-\n"
      ]
    },
    {
      "cell_type": "markdown",
      "metadata": {
        "id": "8IQoQcK9rDZS"
      },
      "source": [
        "* Passengers who have 0 siblings mostly of them died.\n",
        "* Passengers with 1 sibling has equally chance for both die and survive.\n",
        "* passengers who have higher number of siblings like 3 , 4 , 5, 8 has a very low chance to survive or almost 0% chance to survive."
      ]
    },
    {
      "cell_type": "markdown",
      "metadata": {
        "id": "RW0jrORCrDZT"
      },
      "source": [
        "**6.Parch Feature**"
      ]
    },
    {
      "cell_type": "code",
      "execution_count": null,
      "metadata": {
        "id": "7OLJJoYJrDZT",
        "outputId": "cbe96512-97ab-4762-e1d8-813d70fbbebd"
      },
      "outputs": [
        {
          "data": {
            "text/plain": [
              "<matplotlib.axes._subplots.AxesSubplot at 0x1aa31129940>"
            ]
          },
          "execution_count": 13,
          "metadata": {},
          "output_type": "execute_result"
        },
        {
          "data": {
            "image/png": "[encoded data removed]",
            "text/plain": [
              "<Figure size 432x288 with 1 Axes>"
            ]
          },
          "metadata": {},
          "output_type": "display_data"
        }
      ],
      "source": [
        "sns.countplot(data[\"Parch\"],hue = data[\"Survived\"],data = data)"
      ]
    },
    {
      "cell_type": "markdown",
      "metadata": {
        "id": "BxS04KRYrDZT"
      },
      "source": [
        "**Observations-**"
      ]
    },
    {
      "cell_type": "markdown",
      "metadata": {
        "id": "RM_0g5xyrDZT"
      },
      "source": [
        "* Like sibsp almost Same theory is applying here. Analyze it by yourself."
      ]
    },
    {
      "cell_type": "markdown",
      "metadata": {
        "id": "oM2qE1TWrDZT"
      },
      "source": [
        "**7. Fare feature**"
      ]
    },
    {
      "cell_type": "code",
      "execution_count": null,
      "metadata": {
        "id": "26Q0-XptrDZT",
        "outputId": "3db786d2-fdde-4618-d27a-4847f37debd3"
      },
      "outputs": [
        {
          "name": "stderr",
          "output_type": "stream",
          "text": [
            "C:\\Users\\AC\\Anaconda3\\lib\\site-packages\\seaborn\\distributions.py:218: MatplotlibDeprecationWarning: \n",
            "The 'normed' kwarg was deprecated in Matplotlib 2.1 and will be removed in 3.1. Use 'density' instead.\n",
            "  color=hist_color, **hist_kws)\n",
            "C:\\Users\\AC\\Anaconda3\\lib\\site-packages\\seaborn\\distributions.py:218: MatplotlibDeprecationWarning: \n",
            "The 'normed' kwarg was deprecated in Matplotlib 2.1 and will be removed in 3.1. Use 'density' instead.\n",
            "  color=hist_color, **hist_kws)\n"
          ]
        },
        {
          "data": {
            "image/png": "[encoded data removed]",
            "text/plain": [
              "<Figure size 411.875x360 with 1 Axes>"
            ]
          },
          "metadata": {},
          "output_type": "display_data"
        }
      ],
      "source": [
        "sns.FacetGrid(data, hue=\"Survived\", size=5) \\\n",
        "   .map(sns.distplot, \"Fare\") \\\n",
        "   .add_legend();\n",
        "plt.show();"
      ]
    },
    {
      "cell_type": "markdown",
      "metadata": {
        "id": "hP3KgWFjrDZT"
      },
      "source": [
        "**Observations-**"
      ]
    },
    {
      "cell_type": "markdown",
      "metadata": {
        "id": "UmZCKX4WrDZT"
      },
      "source": [
        "* Passengers who paid low fair has a higher chances to die. On the other hand passengers who paid high fair has a higher chance to survive.This observation is same like pclass persons who were rich has higher chance to survive and poor lower chance to survive."
      ]
    },
    {
      "cell_type": "markdown",
      "metadata": {
        "id": "3kN-2ktJrDZU"
      },
      "source": [
        "**8. Embarked Feature**"
      ]
    },
    {
      "cell_type": "code",
      "execution_count": null,
      "metadata": {
        "id": "lWdG2-PWrDZU",
        "outputId": "520da05d-763d-4058-eaf3-0e6b95966bbe"
      },
      "outputs": [
        {
          "data": {
            "text/plain": [
              "<matplotlib.axes._subplots.AxesSubplot at 0x1aa311dcac8>"
            ]
          },
          "execution_count": 24,
          "metadata": {},
          "output_type": "execute_result"
        },
        {
          "data": {
            "image/png": "[encoded data removed]",
            "text/plain": [
              "<Figure size 432x288 with 1 Axes>"
            ]
          },
          "metadata": {},
          "output_type": "display_data"
        }
      ],
      "source": [
        "sns.countplot(data[\"Embarked\"],hue = data[\"Survived\"],data = data)"
      ]
    },
    {
      "cell_type": "markdown",
      "metadata": {
        "id": "TW-hjmfKrDZU"
      },
      "source": [
        "**Observations-**"
      ]
    },
    {
      "cell_type": "markdown",
      "metadata": {
        "id": "RCbrqCykrDZU"
      },
      "source": [
        "* Passengers who started his journey from Southampton , most of them died.\n",
        "* There is not any much difference in peoples surviving or die chances who started his journey from Cherbourg , Queenstown ."
      ]
    },
    {
      "cell_type": "markdown",
      "metadata": {
        "id": "n16rsJL3rDZU"
      },
      "source": [
        "**Some Important things here to know.**"
      ]
    },
    {
      "cell_type": "markdown",
      "metadata": {
        "id": "MIhZHw2SrDZU"
      },
      "source": [
        "* The Data set we have consists 12 features But we are doing uni-variate analysis only on 8 features because rest 4 features are useless os not give much information to us. for e.g feature PassengerId and Passenger name,tickets these to features are not useful for prediction so its better to drop theme from dataset. And in the cabin data set we have 77% null values so it is not trivial to handle cabin feature that’s why i am drooping these 4 features from my data set."
      ]
    },
    {
      "cell_type": "code",
      "execution_count": null,
      "metadata": {
        "id": "LoM04RdWrDZU",
        "outputId": "b46deaa1-7b13-42d3-a00b-617dbaa5178f"
      },
      "outputs": [
        {
          "data": {
            "text/html": [
              "<div>\n",
              "<style scoped>\n",
              "    .dataframe tbody tr th:only-of-type {\n",
              "        vertical-align: middle;\n",
              "    }\n",
              "\n",
              "    .dataframe tbody tr th {\n",
              "        vertical-align: top;\n",
              "    }\n",
              "\n",
              "    .dataframe thead th {\n",
              "        text-align: right;\n",
              "    }\n",
              "</style>\n",
              "<table border=\"1\" class=\"dataframe\">\n",
              "  <thead>\n",
              "    <tr style=\"text-align: right;\">\n",
              "      <th></th>\n",
              "      <th>Survived</th>\n",
              "      <th>Pclass</th>\n",
              "      <th>Sex</th>\n",
              "      <th>Age</th>\n",
              "      <th>SibSp</th>\n",
              "      <th>Parch</th>\n",
              "      <th>Fare</th>\n",
              "      <th>Embarked</th>\n",
              "    </tr>\n",
              "  </thead>\n",
              "  <tbody>\n",
              "    <tr>\n",
              "      <th>0</th>\n",
              "      <td>0</td>\n",
              "      <td>3</td>\n",
              "      <td>male</td>\n",
              "      <td>22.0</td>\n",
              "      <td>1</td>\n",
              "      <td>0</td>\n",
              "      <td>7.2500</td>\n",
              "      <td>S</td>\n",
              "    </tr>\n",
              "    <tr>\n",
              "      <th>1</th>\n",
              "      <td>1</td>\n",
              "      <td>1</td>\n",
              "      <td>female</td>\n",
              "      <td>38.0</td>\n",
              "      <td>1</td>\n",
              "      <td>0</td>\n",
              "      <td>71.2833</td>\n",
              "      <td>C</td>\n",
              "    </tr>\n",
              "    <tr>\n",
              "      <th>2</th>\n",
              "      <td>1</td>\n",
              "      <td>3</td>\n",
              "      <td>female</td>\n",
              "      <td>26.0</td>\n",
              "      <td>0</td>\n",
              "      <td>0</td>\n",
              "      <td>7.9250</td>\n",
              "      <td>S</td>\n",
              "    </tr>\n",
              "    <tr>\n",
              "      <th>3</th>\n",
              "      <td>1</td>\n",
              "      <td>1</td>\n",
              "      <td>female</td>\n",
              "      <td>35.0</td>\n",
              "      <td>1</td>\n",
              "      <td>0</td>\n",
              "      <td>53.1000</td>\n",
              "      <td>S</td>\n",
              "    </tr>\n",
              "    <tr>\n",
              "      <th>4</th>\n",
              "      <td>0</td>\n",
              "      <td>3</td>\n",
              "      <td>male</td>\n",
              "      <td>35.0</td>\n",
              "      <td>0</td>\n",
              "      <td>0</td>\n",
              "      <td>8.0500</td>\n",
              "      <td>S</td>\n",
              "    </tr>\n",
              "  </tbody>\n",
              "</table>\n",
              "</div>"
            ],
            "text/plain": [
              "   Survived  Pclass     Sex   Age  SibSp  Parch     Fare Embarked\n",
              "0         0       3    male  22.0      1      0   7.2500        S\n",
              "1         1       1  female  38.0      1      0  71.2833        C\n",
              "2         1       3  female  26.0      0      0   7.9250        S\n",
              "3         1       1  female  35.0      1      0  53.1000        S\n",
              "4         0       3    male  35.0      0      0   8.0500        S"
            ]
          },
          "execution_count": 12,
          "metadata": {},
          "output_type": "execute_result"
        }
      ],
      "source": [
        "# You can drop those 4 features from data set with this code.\n",
        "data = data.drop([\"PassengerId\", \"Name\" , \"Ticket\" , \"Cabin\"],axis = 1)\n",
        "data.head()"
      ]
    },
    {
      "cell_type": "markdown",
      "metadata": {
        "id": "S6kQvqvarDZU"
      },
      "source": [
        "* Now the question comes in mind is that do we need to perform uni-variate analysis on every individual feature of the data set. how can it possible to perform uni-variate analysis on all features individually if we have a large dimensional data set. Well i think ans is no , we don’t need to perform uni-variate analysis on individual feature in a large dimensional data set. That will be too costly and time taking. in that case you can perform bi-variate analysis or take a set of columns and train a model only on that set of features and see if that is giving good result then definitely those features are useful to predict class label else not.. like these you can try many hacks to analyze."
      ]
    }
  ],
  "metadata": {
    "kernelspec": {
      "display_name": "Python 3",
      "language": "python",
      "name": "python3"
    },
    "language_info": {
      "codemirror_mode": {
        "name": "ipython",
        "version": 3
      },
      "file_extension": ".py",
      "mimetype": "text/x-python",
      "name": "python",
      "nbconvert_exporter": "python",
      "pygments_lexer": "ipython3",
      "version": "3.12.0"
    },
    "colab": {
      "provenance": [],
      "include_colab_link": true
    }
  },
  "nbformat": 4,
  "nbformat_minor": 0
}